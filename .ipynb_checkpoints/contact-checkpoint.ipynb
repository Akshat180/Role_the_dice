{
 "cells": [
  {
   "cell_type": "code",
   "execution_count": null,
   "id": "0266d4af",
   "metadata": {},
   "outputs": [],
   "source": []
  },
  {
   "cell_type": "code",
   "execution_count": 1,
   "id": "c4dc8b51",
   "metadata": {},
   "outputs": [],
   "source": [
    "# # new project to be done\n",
    "# contact\n",
    "# number 4\n",
    "# add contact \n",
    "# update name and number \n",
    "# delete contact axis = 0"
   ]
  },
  {
   "cell_type": "code",
   "execution_count": 2,
   "id": "003eace3",
   "metadata": {},
   "outputs": [],
   "source": [
    "import numpy as np\n",
    "import pandas as pd\n",
    "di = [{'Name': \"Akshat\",'Number':'1','Number1':'2','Number2':'3','Email':'abc@123','NicName':'akku'}]\n",
    "contact_data = pd.DataFrame(di)"
   ]
  },
  {
   "cell_type": "code",
   "execution_count": null,
   "id": "e3ffb339",
   "metadata": {},
   "outputs": [],
   "source": []
  },
  {
   "cell_type": "code",
   "execution_count": 3,
   "id": "603c5989",
   "metadata": {},
   "outputs": [],
   "source": [
    "def add_details():\n",
    "    print(\"Add Details\")\n",
    "    a = input(\"Name:\").title()\n",
    "    b = input(\"Number: \")\n",
    "    \n",
    "    \n",
    "    print('''Want more number press Y/N''')\n",
    "    want_num = input().title()\n",
    "    if want_num == 'Y':\n",
    "        c = input(\"Number1: \")\n",
    "    else:\n",
    "        c = np.nan\n",
    "    \n",
    "    print('''Want more number press Y/N''')\n",
    "    want_num1 = input().title()\n",
    "    if want_num1 == 'Y':\n",
    "        d = input(\"Number2: \")\n",
    "    else:\n",
    "        d = np.nan\n",
    "    \n",
    "    e = input(\"Email: \").title()\n",
    "    f = input(\"Nicname: \").title()\n",
    "    dic = dict(zip(contact_data.columns,[a,b,c,d,e,f]))\n",
    "    contact_data.loc[len(contact_data)] = [a,b,c,d,e,f]"
   ]
  },
  {
   "cell_type": "code",
   "execution_count": 4,
   "id": "f9d22c4e",
   "metadata": {},
   "outputs": [
    {
     "name": "stdout",
     "output_type": "stream",
     "text": [
      "Add Details\n",
      "Name:devu\n",
      "Number: 12345\n",
      "Want more number press Y/N\n",
      "n\n",
      "Want more number press Y/N\n",
      "n\n",
      "Email: devu@12\n",
      "Nicname: dev\n"
     ]
    }
   ],
   "source": [
    "add_details()"
   ]
  },
  {
   "cell_type": "code",
   "execution_count": 5,
   "id": "14bb3d52",
   "metadata": {},
   "outputs": [
    {
     "data": {
      "text/html": [
       "<div>\n",
       "<style scoped>\n",
       "    .dataframe tbody tr th:only-of-type {\n",
       "        vertical-align: middle;\n",
       "    }\n",
       "\n",
       "    .dataframe tbody tr th {\n",
       "        vertical-align: top;\n",
       "    }\n",
       "\n",
       "    .dataframe thead th {\n",
       "        text-align: right;\n",
       "    }\n",
       "</style>\n",
       "<table border=\"1\" class=\"dataframe\">\n",
       "  <thead>\n",
       "    <tr style=\"text-align: right;\">\n",
       "      <th></th>\n",
       "      <th>Name</th>\n",
       "      <th>Number</th>\n",
       "      <th>Number1</th>\n",
       "      <th>Number2</th>\n",
       "      <th>Email</th>\n",
       "      <th>NicName</th>\n",
       "    </tr>\n",
       "  </thead>\n",
       "  <tbody>\n",
       "    <tr>\n",
       "      <th>0</th>\n",
       "      <td>Akshat</td>\n",
       "      <td>1</td>\n",
       "      <td>2</td>\n",
       "      <td>3</td>\n",
       "      <td>abc@123</td>\n",
       "      <td>akku</td>\n",
       "    </tr>\n",
       "    <tr>\n",
       "      <th>1</th>\n",
       "      <td>Devu</td>\n",
       "      <td>12345</td>\n",
       "      <td>NaN</td>\n",
       "      <td>NaN</td>\n",
       "      <td>Devu@12</td>\n",
       "      <td>Dev</td>\n",
       "    </tr>\n",
       "  </tbody>\n",
       "</table>\n",
       "</div>"
      ],
      "text/plain": [
       "     Name Number Number1 Number2    Email NicName\n",
       "0  Akshat      1       2       3  abc@123    akku\n",
       "1    Devu  12345     NaN     NaN  Devu@12     Dev"
      ]
     },
     "execution_count": 5,
     "metadata": {},
     "output_type": "execute_result"
    }
   ],
   "source": [
    "contact_data"
   ]
  },
  {
   "cell_type": "code",
   "execution_count": 6,
   "id": "346ea15a",
   "metadata": {},
   "outputs": [],
   "source": [
    "def search_data():\n",
    " \n",
    "    print('''Search on the basis of\n",
    "            Name Press 1\n",
    "            Number Press 2\n",
    "            Email Press 3\n",
    "            NicName Press 4''')\n",
    "    num = int(input(\"Option: \"))\n",
    "    if num == 1:\n",
    "        name1 = input(\"\\nName: \").title()\n",
    "        print(\"\\n\")\n",
    "        print(contact_data[contact_data.Name == name1 ])\n",
    "    elif num == 2:\n",
    "        name1 = input(\"\\nNumber: \").title()\n",
    "        print(\"\\n\")\n",
    "        print(contact_data[contact_data.Number == name1 ])\n",
    "    elif num == 3:\n",
    "        name1 = input(\"\\nEmail: \").title()\n",
    "        print(\"\\n\")\n",
    "        print(contact_data[contact_data.Email == name1 ])\n",
    "    elif num == 4:\n",
    "        name1 = input(\"\\nNicName: \").title()\n",
    "        print(\"\\n\")\n",
    "        print(contact_data[contact_data.NicName == name1 ]) \n",
    "    else:\n",
    "        print('''Invalid input......\n",
    "                 Please try Again.... ''')\n"
   ]
  },
  {
   "cell_type": "code",
   "execution_count": null,
   "id": "89daeedd",
   "metadata": {},
   "outputs": [
    {
     "name": "stdout",
     "output_type": "stream",
     "text": [
      "Search on the basis of\n",
      "                Name Press 1\n",
      "                Number Press 2\n",
      "                Email Press 3\n",
      "                NicName Press 4\n",
      "Option: 4\n",
      "\n",
      "NicName: d\n",
      "\n",
      "\n",
      "Empty DataFrame\n",
      "Columns: [Name, Number, Number1, Number2, Email, NicName]\n",
      "Index: []\n",
      "Search on the basis of\n",
      "                Name Press 1\n",
      "                Number Press 2\n",
      "                Email Press 3\n",
      "                NicName Press 4\n",
      "Option: 4\n",
      "\n",
      "NicName: de\n",
      "\n",
      "\n",
      "Empty DataFrame\n",
      "Columns: [Name, Number, Number1, Number2, Email, NicName]\n",
      "Index: []\n",
      "Search on the basis of\n",
      "                Name Press 1\n",
      "                Number Press 2\n",
      "                Email Press 3\n",
      "                NicName Press 4\n",
      "Option: 4\n",
      "\n",
      "NicName: d\n",
      "\n",
      "\n",
      "Empty DataFrame\n",
      "Columns: [Name, Number, Number1, Number2, Email, NicName]\n",
      "Index: []\n",
      "Search on the basis of\n",
      "                Name Press 1\n",
      "                Number Press 2\n",
      "                Email Press 3\n",
      "                NicName Press 4\n",
      "Option: 4\n",
      "\n",
      "NicName: d'\n",
      "\n",
      "\n",
      "Empty DataFrame\n",
      "Columns: [Name, Number, Number1, Number2, Email, NicName]\n",
      "Index: []\n",
      "Search on the basis of\n",
      "                Name Press 1\n",
      "                Number Press 2\n",
      "                Email Press 3\n",
      "                NicName Press 4\n"
     ]
    }
   ],
   "source": [
    "search_data()"
   ]
  },
  {
   "cell_type": "code",
   "execution_count": null,
   "id": "2dba7e85",
   "metadata": {},
   "outputs": [],
   "source": []
  }
 ],
 "metadata": {
  "kernelspec": {
   "display_name": "Python 3 (ipykernel)",
   "language": "python",
   "name": "python3"
  },
  "language_info": {
   "codemirror_mode": {
    "name": "ipython",
    "version": 3
   },
   "file_extension": ".py",
   "mimetype": "text/x-python",
   "name": "python",
   "nbconvert_exporter": "python",
   "pygments_lexer": "ipython3",
   "version": "3.11.2"
  }
 },
 "nbformat": 4,
 "nbformat_minor": 5
}
