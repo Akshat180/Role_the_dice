{
 "cells": [
  {
   "cell_type": "code",
   "execution_count": 1,
   "id": "f235870f",
   "metadata": {},
   "outputs": [],
   "source": [
    "def dice():\n",
    "    import random\n",
    "    k = random.choice(range(1,7))\n",
    "    if(k==1):\n",
    "        print('[-----]')\n",
    "        print('[-----]')\n",
    "        print('[--0--]')\n",
    "        print('[-----]')\n",
    "        print('[-----]')\n",
    "    elif(k==2):\n",
    "        print('[-----]')\n",
    "        print('[0    ]')\n",
    "        print('[-----]')\n",
    "        print('[    0]')\n",
    "        print('[-----]')\n",
    "    elif(k==3):\n",
    "        print('[-----]')\n",
    "        print('[     ]')\n",
    "        print('[0 0 0]')\n",
    "        print('[     ]')\n",
    "        print('[-----]')\n",
    "    elif(k==4):\n",
    "        print('[-----]')\n",
    "        print('[0   0]')\n",
    "        print('[     ]')\n",
    "        print('[0   0]')\n",
    "        print('[-----]')\n",
    "    elif(k==5):\n",
    "        print('[-----]')\n",
    "        print('[0   0]')\n",
    "        print('[  0  ]')\n",
    "        print('[0   0]')\n",
    "        print('[-----]')\n",
    "    elif(k==6):\n",
    "        print('[-----]')\n",
    "        print('[0 0 0]')\n",
    "        print('[     ]')\n",
    "        print('[0 0 0]')\n",
    "        print('[-----]')\n",
    "    print('inside', k)\n",
    "    return k"
   ]
  },
  {
   "cell_type": "code",
   "execution_count": null,
   "id": "f6bfa157",
   "metadata": {},
   "outputs": [],
   "source": [
    "user1 = dice()\n",
    "user2 = dice()\n",
    "if user1>user2:\n",
    "    print(\"User 1 is Winner\")\n",
    "else:\n",
    "    print(\"User 2 is Winner\")"
   ]
  }
 ],
 "metadata": {
  "kernelspec": {
   "display_name": "Python 3 (ipykernel)",
   "language": "python",
   "name": "python3"
  },
  "language_info": {
   "codemirror_mode": {
    "name": "ipython",
    "version": 3
   },
   "file_extension": ".py",
   "mimetype": "text/x-python",
   "name": "python",
   "nbconvert_exporter": "python",
   "pygments_lexer": "ipython3",
   "version": "3.11.2"
  }
 },
 "nbformat": 4,
 "nbformat_minor": 5
}
