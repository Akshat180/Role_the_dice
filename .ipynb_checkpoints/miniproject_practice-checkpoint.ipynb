{
 "cells": [
  {
   "cell_type": "code",
   "execution_count": 1,
   "id": "b6c05425",
   "metadata": {},
   "outputs": [],
   "source": [
    "d={'admin':'Qwerty@123'}"
   ]
  },
  {
   "cell_type": "code",
   "execution_count": 2,
   "id": "220fa60c",
   "metadata": {},
   "outputs": [],
   "source": [
    "d2={'admin':'petname'}"
   ]
  },
  {
   "cell_type": "code",
   "execution_count": 3,
   "id": "b09f928a",
   "metadata": {},
   "outputs": [],
   "source": [
    "def checkpasswordstrength(password):\n",
    "    return True"
   ]
  },
  {
   "cell_type": "code",
   "execution_count": null,
   "id": "3867f684",
   "metadata": {},
   "outputs": [],
   "source": []
  },
  {
   "cell_type": "code",
   "execution_count": 4,
   "id": "0bdbfbd6",
   "metadata": {},
   "outputs": [
    {
     "name": "stdout",
     "output_type": "stream",
     "text": [
      "Enter a username: dev\n",
      "enter a strong password: dev1\n",
      "pet name: devi\n",
      "please enter your password again: dev1\n"
     ]
    },
    {
     "data": {
      "text/plain": [
       "'succesfull'"
      ]
     },
     "execution_count": 4,
     "metadata": {},
     "output_type": "execute_result"
    }
   ],
   "source": [
    "def signup():\n",
    "    while 1:\n",
    "        userup = input('Enter a username: ').lower()\n",
    "        if userup == '0':\n",
    "            return 'failed'\n",
    "        if userup not in d and  userup not in d2 :\n",
    "            passup = input('enter a strong password: ')\n",
    "            fq=input('pet name: ')\n",
    "            if checkpasswordstrength(passup):\n",
    "                st1 =3 \n",
    "                while st1:\n",
    "                    passup2= input('please enter your password again: ')\n",
    "                    if passup==passup2:\n",
    "                        d.update({userup:passup}) #d[userup]= passup\n",
    "                        d2.update({userup:fq})\n",
    "                        return 'succesfull'\n",
    "                    else:\n",
    "                        print('password does not match...please...try again...')\n",
    "                        st1-=1\n",
    "                        return'falied'\n",
    "             \n",
    "                    \n",
    "\n",
    "        else:\n",
    "            print('''username already exists..please try again...\n",
    "            press 0 to exist \n",
    "            or''')\n",
    "            \n",
    "            \n",
    "            \n",
    "\n",
    "   \n",
    " "
   ]
  },
  {
   "cell_type": "code",
   "execution_count": 5,
   "id": "bd93620a",
   "metadata": {},
   "outputs": [
    {
     "name": "stdout",
     "output_type": "stream",
     "text": [
      "{'admin': 'Qwerty@123', 'dev': 'dev1'}\n",
      "{'admin': 'petname', 'dev': 'devi'}\n"
     ]
    }
   ],
   "source": []
  },
  {
   "cell_type": "code",
   "execution_count": 6,
   "id": "6140898f",
   "metadata": {},
   "outputs": [],
   "source": [
    "def signin():\n",
    "    while 1:\n",
    "        userin = input('enter your username: ').lower()\n",
    "        if userin == '0':\n",
    "            return 'failed'\n",
    "        if userin in d:\n",
    "            str1=3\n",
    "            while str1:\n",
    "                passin = input(f'enter a password {userin}:')\n",
    "                if d[userin]==passin:\n",
    "                    return'logined'\n",
    "                else:\n",
    "                    print('pass not found please try again')\n",
    "                    str1 -=  1\n",
    "            option = input('Forgot password? y/n: ').lower()\n",
    "            if option == 'y':\n",
    "                forget()\n",
    "            else:\n",
    "                return 'failed'\n",
    "        else:\n",
    "            print('''username doesn't exist. please try again...\n",
    "            press 0 to exist\n",
    "            or''')\n",
    "                   "
   ]
  },
  {
   "cell_type": "code",
   "execution_count": 11,
   "id": "467ea341",
   "metadata": {},
   "outputs": [
    {
     "name": "stdout",
     "output_type": "stream",
     "text": [
      "press 1 for pet question\n",
      "            \n",
      "press 2 for otp\n",
      "numb: 2\n",
      "enter your username: dev\n",
      "otp dev:8155\n",
      "enter otp: 555\n",
      "enter new password: dev123\n",
      "your pass is changed\n"
     ]
    }
   ],
   "source": [
    "def forget():\n",
    "    print('''press 1 for pet question\n",
    "            \\npress 2 for otp''')\n",
    "    numb1 = int(input(\"numb: \"))\n",
    "    if numb1==1:\n",
    "        \n",
    "        petquestion()\n",
    "        \n",
    "\n",
    "    elif numb1==2:\n",
    "        otpforget()\n",
    "       \n",
    "    else:\n",
    "            print('wrong input')\n",
    "            \n",
    "    \n"
   ]
  },
  {
   "cell_type": "code",
   "execution_count": 12,
   "id": "e5590a4e",
   "metadata": {},
   "outputs": [
    {
     "name": "stdout",
     "output_type": "stream",
     "text": [
      "{'admin': 'Qwerty@123', 'dev': 'dev123'}\n",
      "{'admin': 'petname', 'dev': 'devi'}\n"
     ]
    }
   ],
   "source": [
    "print(d)\n",
    "print(d2)"
   ]
  },
  {
   "cell_type": "code",
   "execution_count": null,
   "id": "381574ff",
   "metadata": {},
   "outputs": [],
   "source": [
    "def otpforget():\n",
    "    \n",
    "    otp=generateotp()\n",
    "    userin = input('enter your username: ').lower()\n",
    "    if userin == '0':\n",
    "        return 'failed'\n",
    "    if userin in d2:\n",
    "        str1=3\n",
    "        while str1:\n",
    "            otp1= input(f'otp for username {userin} is :')\n",
    "            if otp == otp1 :\n",
    "                newpass=input('enter new password: ')\n",
    "                d.update({userin:newpass})\n",
    "                print(\"password changed successfull\")\n",
    "                return'password changed'\n",
    "\n",
    "            else:\n",
    "                print('petname not found please try again')\n",
    "                str1 -=  1\n",
    "        return 'failed'\n",
    "    else:\n",
    "        print('''username doesn't exist. please try again...\n",
    "        press 0 to exist\n",
    "        or''')\n"
   ]
  },
  {
   "cell_type": "code",
   "execution_count": 9,
   "id": "a563ac46",
   "metadata": {},
   "outputs": [],
   "source": [
    "def generateotp():\n",
    "    \n",
    "    import os\n",
    "    from twilio.rest import Client\n",
    "\n",
    "    account_sid = \"ACc10b8bb89df4732c2a54ca10a377fcba\"\n",
    "    auth_token = \"221f510fcace02c8887a46135542f3e9\"\n",
    "    client = Client(account_sid, auth_token)\n",
    "\n",
    "    import random\n",
    "    c= random.randint(1000,9999)\n",
    "    msg = 'your OTP is  '+str(c)\n",
    "\n",
    "    message = client.messages.create(\n",
    "      body= msg,\n",
    "      from_=\"+14406893459\",\n",
    "      to=\"+918319082508\"\n",
    "    )\n",
    "    return str(c)\n"
   ]
  },
  {
   "cell_type": "code",
   "execution_count": 13,
   "id": "ac763762",
   "metadata": {},
   "outputs": [],
   "source": [
    " def petquestion():\n",
    "    while 1:\n",
    "        userin = input('enter your username: ').lower()\n",
    "        if userin == '0':\n",
    "            return 'failed'\n",
    "        if userin in d2:\n",
    "            str1=3\n",
    "            while str1:\n",
    "                fq= input(f'enter a petname {userin}:')\n",
    "                if d2[userin]==fq:\n",
    "                    newpass=input('enter new password: ')\n",
    "                    d.update({userin:newpass})\n",
    "                    print(\"your pass is changed\")\n",
    "                    return'password changed'\n",
    "                    \n",
    "                else:\n",
    "                    print('petname not found please try again')\n",
    "                    str1 -=  1\n",
    "            return 'failed'\n",
    "        else:\n",
    "            print('''username doesn't exist. please try again...\n",
    "            press 0 to exist\n",
    "            or''')\n",
    "                   \n"
   ]
  },
  {
   "cell_type": "code",
   "execution_count": 10,
   "id": "b6b1aa61",
   "metadata": {},
   "outputs": [],
   "source": []
  },
  {
   "cell_type": "code",
   "execution_count": null,
   "id": "3b962beb",
   "metadata": {},
   "outputs": [],
   "source": [
    "while 1:\n",
    "    mode= input('''\\nchoose mode:\n",
    "    press 1 to signup\n",
    "    press 2 to signin\n",
    "    press 0 to exist\n",
    "    press 3 to forget password\n",
    "    :''')\n",
    "    if mode == '1':\n",
    "        X=signup()\n",
    "        print('signup',X)\n",
    "    elif mode == '2':\n",
    "        signin()\n",
    "        print('signin')\n",
    "    elif mode == '0':\n",
    "        print('thankyou')\n",
    "        break\n",
    "    elif mode=='3':\n",
    "        forget()\n",
    "        break\n",
    "    else:\n",
    "        print('enter a valid input...')\n",
    "    "
   ]
  }
 ],
 "metadata": {
  "kernelspec": {
   "display_name": "Python 3 (ipykernel)",
   "language": "python",
   "name": "python3"
  },
  "language_info": {
   "codemirror_mode": {
    "name": "ipython",
    "version": 3
   },
   "file_extension": ".py",
   "mimetype": "text/x-python",
   "name": "python",
   "nbconvert_exporter": "python",
   "pygments_lexer": "ipython3",
   "version": "3.11.2"
  }
 },
 "nbformat": 4,
 "nbformat_minor": 5
}
