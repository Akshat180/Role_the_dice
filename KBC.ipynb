{
 "cells": [
  {
   "cell_type": "code",
   "execution_count": 3,
   "id": "511b3f5f",
   "metadata": {},
   "outputs": [],
   "source": [
    "def passthequestion():\n",
    "    print(\"question: The International Literacy Day is observed on ?\")\n",
    "    print(\"A. Sep 8 , B. Nov 28 , C. May 2 , D. Sep 22\")\n",
    "    answer1=input('answer: ').lower()\n",
    "    if answer1==\"sep 8\":\n",
    "        print(\"Your Answer IS Correct\")\n",
    "        return True\n",
    "    else:\n",
    "        print(\"Answer is Wrong\")\n",
    "        return False"
   ]
  },
  {
   "cell_type": "code",
   "execution_count": 4,
   "id": "6493811f",
   "metadata": {},
   "outputs": [],
   "source": [
    "def audiencepoll(c):\n",
    "    l=[]\n",
    "    import random as rd\n",
    "    for x in range(10):\n",
    "        l.append(rd.randint(1,5))\n",
    "    print(l)    \n",
    "    averscore = sum(l)/10\n",
    "    z = round(averscore)\n",
    "    print(\"\")\n",
    "    x= list(d.keys())\n",
    "    \n",
    "    audience = (d[x[c]])\n",
    "    \n",
    "\n",
    "    print(x[c])\n",
    "    print(\"Audience Poll Option: \",audience[z])\n",
    "    print((d[x[c]]))\n",
    "    \n",
    "    ans=input(\"Input answer: \").title()\n",
    "    if ans == do[c]:\n",
    "        print('Your answer is correct')\n",
    "        return True\n",
    "       \n",
    "    else:\n",
    "        print(\"wrong\")\n",
    "        return False\n",
    "        \n",
    "\n",
    "\n"
   ]
  },
  {
   "cell_type": "code",
   "execution_count": 1,
   "id": "80f40d4f",
   "metadata": {},
   "outputs": [
    {
     "data": {
      "text/plain": [
       "4"
      ]
     },
     "execution_count": 1,
     "metadata": {},
     "output_type": "execute_result"
    }
   ],
   "source": [
    "# import math as m \n",
    "# m.ceil(3.1)\n",
    "# m.floor(3.99)\n",
    "# round(3.5)"
   ]
  },
  {
   "cell_type": "code",
   "execution_count": 6,
   "id": "e37d20b8",
   "metadata": {},
   "outputs": [],
   "source": [
    "import random\n",
    "def fiftyfifty(c):\n",
    "\n",
    "    \n",
    "    x= list(d.keys())\n",
    "     \n",
    "    print(x[c])\n",
    "    input1 = do[c]\n",
    "    input2= (d[x[c]])\n",
    "    \n",
    "    tl= input2.copy()\n",
    "    tl.remove(input1)\n",
    "    c=random.choice(tl)\n",
    "    \n",
    "\n",
    "    print(input1,\"or\",c)\n",
    "    ans=input(\"answer: \").title()\n",
    "    if ans==input1:\n",
    "        print('Your answer is correct')\n",
    "        return True\n",
    "       \n",
    "    else:\n",
    "        print(\"wrong\")\n",
    "        return False\n",
    "        \n",
    "\n",
    "               "
   ]
  },
  {
   "cell_type": "code",
   "execution_count": 7,
   "id": "12cafb10",
   "metadata": {},
   "outputs": [],
   "source": [
    "def lifeline(c, p):\n",
    "    \n",
    "     for x in range(4):\n",
    "        print('''\\npress 1 to choose 50/50 lifeline\n",
    "                     \\npress 2 to choose Pass The Question\n",
    "                     \\npress 3 to choose audiencepoll ''')\n",
    "            \n",
    "        num2=int(input(\"\\noption for lifeline: \"))\n",
    "        print(\"\")\n",
    "        if num2==1 and dll['fifty'] != 0 :  \n",
    "            dll['fifty'] -= 1\n",
    "            if fiftyfifty(c):\n",
    "                c+=1\n",
    "                print(\"your prize money is\",p) \n",
    "                p+=p\n",
    "                return c\n",
    "            else:\n",
    "                return -1\n",
    "\n",
    "\n",
    "        elif num2==2 and dll['pass'] != 0:\n",
    "            dll['pass'] -= 1\n",
    "            if passthequestion():\n",
    "                c+=1\n",
    "                print(\"your prize money is\",p) \n",
    "                p+=p\n",
    "                return c\n",
    "            else:\n",
    "                return -1\n",
    "\n",
    "        elif num2 == 3 and dll['audiencepoll'] != 0:\n",
    "            dll['audiencepoll'] -=1\n",
    "            if audiencepoll(c):\n",
    "                c+=1\n",
    "                print(\"your prize money is\",p) \n",
    "                p+=p\n",
    "                return c\n",
    "            else:\n",
    "                return -1\n",
    "\n",
    "        else:\n",
    "            print(\"Invalid inpiut ......=Try again \")\n",
    "                \n",
    "            \n",
    "# lifeline(2,1)"
   ]
  },
  {
   "cell_type": "code",
   "execution_count": 8,
   "id": "087e3158",
   "metadata": {},
   "outputs": [
    {
     "name": "stdout",
     "output_type": "stream",
     "text": [
      "..........Welcome to Kaun Banega Crorepati.........\n",
      "....Do You Want To Play....\n",
      "\n",
      "que1: What is the capital of India?\n",
      "['New Delhi', 'Mumbai', 'Kolkata', 'Chennai']\n",
      "\n",
      "You want to answer or want lifeline\n",
      "\n",
      "            for answer press option 1\n",
      "\n",
      "            for lifeline press option 2\n",
      "Your answer is correct\n",
      "your prize money is 5000\n",
      "\n",
      "que2: What is the largest country in the world?\n",
      "['Russia', 'China', 'Usa', 'India']\n",
      "\n",
      "You want to answer or want lifeline\n",
      "\n",
      "            for answer press option 1\n",
      "\n",
      "            for lifeline press option 2\n"
     ]
    }
   ],
   "source": [
    "d= {\n",
    "    \"que1: What is the capital of India?\": [\"New Delhi\", \"Mumbai\", \"Kolkata\", \"Chennai\"],\n",
    "    \"que2: What is the largest country in the world?\": [\"Russia\", \"China\", \"Usa\", \"India\"],\n",
    "    \"que3: Who was the first man to step on the moon?\": [\"Neil Armstrong\", \"Buzz Aldrin\", \"Yuri Gagarin\", \"Alan Shepard\"],\n",
    "    \"que4: What is the currency of Japan?\": [\"Yen\", \"Dollar\", \"Euro\", \"Pound\"],\n",
    "    \"que5: What is the highest mountain in the world?\": [\"Mount Everest\", \"K2\", \"Kangchenjunga\", \"Lhotse\"],\n",
    "    \"Que6.Which of the following companies was originally started as a loom manufacturing unit in 1909?\":['Suzuki', 'CEAT', 'Honda', 'Mercedes'],\n",
    "    \"Que7: In 1994, who became the winner of the first-ever Filmfare R D Burman Award for New Music Talent?\":['Udit Narayan', 'A R Rahman', 'Lata Mangeshkar', 'Raj Burman'],\n",
    "    \"Que8: What colour did Lord Shiva’s throat turn into when he drank the deadly poison during Samudra Manthan?\":['Red', 'Yellow', 'Blue', 'Black'],\n",
    "    \"Que9: What is the profession of Kabir in the film Kabir Singh?\":['Engineer', 'Cricketor', 'Athlete', 'Doctor'],  \n",
    "    \"Que10: Which of these national parks is named after the river that flows through the park?\":['Pench', 'Tadoba', 'Vrindavan', 'Wildera']\n",
    "}\n",
    "\n",
    "\n",
    "\n",
    "do = ['New Delhi', 'China', 'Neil Armstrong', 'Yen', 'K2','Suzuki', 'A R Rahman' , 'Blue' ,  'Doctor' , 'Pench']\n",
    "\n",
    "\n",
    "dll={\"fifty\":1, 'pass':1,'audiencepoll':2}\n",
    "    \n",
    "def kbc():\n",
    "    \n",
    "    x= list(d.keys())\n",
    "    y=list(d.values())\n",
    "    c=0\n",
    "    p=5000\n",
    "    while 1:\n",
    "        \n",
    "        print()\n",
    "        print(x[c])\n",
    "        print(d[x[c]])\n",
    "        print('''\\nYou want to answer or want lifeline\\n\n",
    "            for answer press option 1\\n\n",
    "            for lifeline press option 2''')\n",
    "        \n",
    "        num1=int(input(\"option : \"))\n",
    "        \n",
    "        if num1==1:\n",
    "            \n",
    "            n=input(\" answer:\").title()\n",
    "            i = d[x[c]].index(n)\n",
    "            if d[x[c]][i] == do[c]:\n",
    "                 \n",
    "                print('')\n",
    "                print('Your answer is correct')\n",
    "                \n",
    "                print('')\n",
    "                print(\"your prize money is\",p) \n",
    "                p+=p\n",
    "                c+=1\n",
    "            else:\n",
    "                print('Answer incorrect')\n",
    "                print(p)\n",
    "                break\n",
    "\n",
    "            \n",
    "        elif num1==2: \n",
    "            a = lifeline(c,p)\n",
    "            if a == -1:\n",
    "                print('Answer incorrect')\n",
    "                print(p)\n",
    "                break\n",
    "            else:\n",
    "                c = a\n"
   ]
  },
  {
   "cell_type": "code",
   "execution_count": 3,
   "id": "f33b4aaa",
   "metadata": {},
   "outputs": [
    {
     "name": "stdout",
     "output_type": "stream",
     "text": [
      "..........Welcome to Kaun Banega Crorepati.........\n",
      "        ......Do You Want To Play.....     \n",
      "Press Y/Ny\n"
     ]
    },
    {
     "ename": "NameError",
     "evalue": "name 'kbc' is not defined",
     "output_type": "error",
     "traceback": [
      "\u001b[1;31m---------------------------------------------------------------------------\u001b[0m",
      "\u001b[1;31mNameError\u001b[0m                                 Traceback (most recent call last)",
      "Cell \u001b[1;32mIn[3], line 5\u001b[0m\n\u001b[0;32m      3\u001b[0m welcome\u001b[38;5;241m=\u001b[39m\u001b[38;5;28minput\u001b[39m(\u001b[38;5;124m\"\u001b[39m\u001b[38;5;124mPress Y/N\u001b[39m\u001b[38;5;124m\"\u001b[39m)\u001b[38;5;241m.\u001b[39mupper()\n\u001b[0;32m      4\u001b[0m \u001b[38;5;28;01mif\u001b[39;00m welcome \u001b[38;5;241m==\u001b[39m \u001b[38;5;124m\"\u001b[39m\u001b[38;5;124mY\u001b[39m\u001b[38;5;124m\"\u001b[39m:\n\u001b[1;32m----> 5\u001b[0m     \u001b[43mkbc\u001b[49m()\n\u001b[0;32m      6\u001b[0m \u001b[38;5;28;01melse\u001b[39;00m:\n\u001b[0;32m      7\u001b[0m     \u001b[38;5;28mprint\u001b[39m(\u001b[38;5;124m\"\u001b[39m\u001b[38;5;124mThank You\u001b[39m\u001b[38;5;124m\"\u001b[39m)       \n",
      "\u001b[1;31mNameError\u001b[0m: name 'kbc' is not defined"
     ]
    }
   ],
   "source": [
    "print('..........Welcome to Kaun Banega Crorepati.........')\n",
    "print(\"        ......Do You Want To Play.....     \")\n",
    "welcome=input(\"Press Y/N\").upper()\n",
    "if welcome == \"Y\":\n",
    "    kbc()\n",
    "else:\n",
    "    print(\"Thank You\")       "
   ]
  },
  {
   "cell_type": "code",
   "execution_count": null,
   "id": "7c3c0a06",
   "metadata": {},
   "outputs": [],
   "source": [
    " "
   ]
  },
  {
   "cell_type": "code",
   "execution_count": null,
   "id": "90a4083d",
   "metadata": {},
   "outputs": [],
   "source": []
  },
  {
   "cell_type": "code",
   "execution_count": null,
   "id": "5f0c4864",
   "metadata": {},
   "outputs": [],
   "source": []
  },
  {
   "cell_type": "code",
   "execution_count": null,
   "id": "927c72bd",
   "metadata": {},
   "outputs": [],
   "source": []
  },
  {
   "cell_type": "code",
   "execution_count": null,
   "id": "91ba3cca",
   "metadata": {},
   "outputs": [],
   "source": []
  }
 ],
 "metadata": {
  "kernelspec": {
   "display_name": "Python 3 (ipykernel)",
   "language": "python",
   "name": "python3"
  },
  "language_info": {
   "codemirror_mode": {
    "name": "ipython",
    "version": 3
   },
   "file_extension": ".py",
   "mimetype": "text/x-python",
   "name": "python",
   "nbconvert_exporter": "python",
   "pygments_lexer": "ipython3",
   "version": "3.11.2"
  }
 },
 "nbformat": 4,
 "nbformat_minor": 5
}
