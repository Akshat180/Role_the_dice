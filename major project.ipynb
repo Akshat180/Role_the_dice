{
 "cells": [
  {
   "cell_type": "code",
   "execution_count": 1,
   "id": "c4dc8b51",
   "metadata": {},
   "outputs": [
    {
     "ename": "SyntaxError",
     "evalue": "invalid syntax (3262577846.py, line 1)",
     "output_type": "error",
     "traceback": [
      "\u001b[1;36m  Cell \u001b[1;32mIn[1], line 1\u001b[1;36m\u001b[0m\n\u001b[1;33m    new project to be done\u001b[0m\n\u001b[1;37m        ^\u001b[0m\n\u001b[1;31mSyntaxError\u001b[0m\u001b[1;31m:\u001b[0m invalid syntax\n"
     ]
    }
   ],
   "source": [
    "# new project to be done\n",
    "# signup-signin\n",
    "# kbc\n",
    "# dice the roll"
   ]
  },
  {
   "cell_type": "code",
   "execution_count": 1,
   "id": "5b61dc5b",
   "metadata": {},
   "outputs": [],
   "source": [
    "import import_ipynb"
   ]
  },
  {
   "cell_type": "code",
   "execution_count": 2,
   "id": "819fc41c",
   "metadata": {},
   "outputs": [],
   "source": [
    "d={'admin':'Qwerty@123'}\n",
    "d2={'admin':'petname'}\n",
    "d3={'admin':'9854345942'}"
   ]
  },
  {
   "cell_type": "code",
   "execution_count": 3,
   "id": "5d66dc6f",
   "metadata": {},
   "outputs": [],
   "source": [
    "def checkpasswordstrength(password):\n",
    "   \n",
    "    sp='!@#$%^&*-=+/*?'            \n",
    "    ac=dc=uc=lc=sc=st=0\n",
    "    \n",
    "    for i in password:\n",
    "        if i.isalpha():\n",
    "            ac+=1\n",
    "            if i.islower():\n",
    "                lc+=1\n",
    "            elif i.isupper():\n",
    "                lc+=1\n",
    "\n",
    "        elif i.isdigit():\n",
    "            dc+=1\n",
    "\n",
    "        elif i in sp: \n",
    "            sc+=1\n",
    "\n",
    "\n",
    "\n",
    "    if len(password) > 8:\n",
    "        st+=1\n",
    "    if ac>0 and dc >0:\n",
    "        st+=1\n",
    "    if uc > 0 and lc>0:\n",
    "        st+=1\n",
    "    if sc>0:\n",
    "        st+=1\n",
    "\n",
    "    if st>=3:\n",
    "        return'strong'\n",
    "    else:\n",
    "        return'weak'\n",
    "\n"
   ]
  },
  {
   "cell_type": "code",
   "execution_count": 4,
   "id": "bb224d01",
   "metadata": {},
   "outputs": [
    {
     "name": "stdout",
     "output_type": "stream",
     "text": [
      "Enter a username: Akshat\n",
      "enter a strong password: Akshat@18\n",
      "pet name: tyson\n",
      "Phone Number8319082508\n",
      "please enter your password again: Akshat@18\n"
     ]
    },
    {
     "data": {
      "text/plain": [
       "'succesfull'"
      ]
     },
     "execution_count": 4,
     "metadata": {},
     "output_type": "execute_result"
    }
   ],
   "source": [
    "def signup():\n",
    "    while 1:\n",
    "        userup = input('Enter a username: ').lower()\n",
    "        if userup == '0':\n",
    "            return 'failed'\n",
    "        if userup not in d and  userup not in d2 and userup not in d3 :\n",
    "            passup = input('enter a strong password: ')\n",
    "            security_question =input('pet name: ')\n",
    "            number = input(\"Phone Number\")\n",
    "            if checkpasswordstrength(passup):\n",
    "                st1 =3 \n",
    "                while st1:\n",
    "                    passup2= input('please enter your password again: ')\n",
    "                    if passup==passup2:\n",
    "                        d.update({userup:passup}) #d[userup]= passup\n",
    "                        d2.update({userup:security_question})\n",
    "                        d3.update({userup:number})\n",
    "                        return 'succesfull'\n",
    "                    else:\n",
    "                        print('password does not match...please...try again...')\n",
    "                        st1-=1\n",
    "                        return'falied'\n",
    "             \n",
    "                    \n",
    "\n",
    "        else:\n",
    "            print('''username already exists..please try again...\n",
    "            press 0 to exist \n",
    "            or''')\n",
    "signup()"
   ]
  },
  {
   "cell_type": "code",
   "execution_count": null,
   "id": "6f0f1b9d",
   "metadata": {},
   "outputs": [],
   "source": [
    "def forget():\n",
    "    print('''press 1 for pet question\n",
    "            \\npress 2 for otp''')\n",
    "    numb1 = int(input(\"numb: \"))\n",
    "    if numb1==1:\n",
    "        \n",
    "        petquestion()\n",
    "        \n",
    "    elif numb1==2:\n",
    "        \n",
    "        otpforget()\n",
    "       \n",
    "    else:\n",
    "        print('wrong input')\n",
    "            "
   ]
  },
  {
   "cell_type": "code",
   "execution_count": null,
   "id": "0d009adf",
   "metadata": {},
   "outputs": [],
   "source": [
    "def otpforget():\n",
    "    while 1:\n",
    "        userin = input('enter your username: ').lower()\n",
    "        if userin == '0':\n",
    "            return 'failed'\n",
    "        if userin in d3:\n",
    "            str1=3\n",
    "            while str1:\n",
    "        \n",
    "                number_verify = input(\"Verify Phone Number: \")\n",
    "                if number_verify == d3[userin]:\n",
    "                        otp = generateotp()\n",
    "                        str1=3\n",
    "                        while str1:\n",
    "                            otp1 = input(f'otp for username {userin} is :')\n",
    "                            if otp == otp1 :\n",
    "                                newpass=input('enter new password: ')\n",
    "                                d.update({userin:newpass})\n",
    "                                print(\"password changed successfull\")\n",
    "                                return'password changed'\n",
    "\n",
    "                            else:\n",
    "                                print('petname not found please try again')\n",
    "                                str1 -=  1\n",
    "                        return 'failed'\n",
    "                else:\n",
    "                    print('''username doesn't exist. please try again...\n",
    "                    press 0 to exist\n",
    "                    or''')\n"
   ]
  },
  {
   "cell_type": "code",
   "execution_count": null,
   "id": "347efe9f",
   "metadata": {},
   "outputs": [],
   "source": [
    "\n",
    "def generateotp():\n",
    "    \n",
    "    import os\n",
    "    from twilio.rest import Client\n",
    "\n",
    "    account_sid = \"ACc10b8bb89df4732c2a54ca10a377fcba\"\n",
    "    auth_token = \"5b8149ce24788f621c31c58460c823f7\"\n",
    "    client = Client(account_sid, auth_token)\n",
    "\n",
    "    import random\n",
    "    c= random.randint(1000,9999)\n",
    "    msg = 'your OTP is  '+str(c)\n",
    "\n",
    "    message = client.messages.create(\n",
    "      body= msg,\n",
    "      from_=\"+14406893459\",\n",
    "      to=\"+918319082508\"\n",
    "    )\n",
    "    return str(c)\n"
   ]
  },
  {
   "cell_type": "code",
   "execution_count": null,
   "id": "3432cd30",
   "metadata": {},
   "outputs": [],
   "source": [
    " def petquestion():\n",
    "    while 1:\n",
    "        userin = input('enter your username: ').lower()\n",
    "        if userin == '0':\n",
    "            return 'failed'\n",
    "        if userin in d2:\n",
    "            str1=3\n",
    "            while str1:\n",
    "                security_question = input(f'enter a petname {userin}:')\n",
    "                if d2[userin]== security_question:\n",
    "                    newpass=input('enter new password: ')\n",
    "                    d.update({userin:newpass})\n",
    "                    print(\"your pass is changed\")\n",
    "                    return'password changed'\n",
    "                    \n",
    "                else:\n",
    "                    print('petname not found please try again')\n",
    "                    str1 -=  1\n",
    "            return 'failed'\n",
    "        else:\n",
    "            print('''username doesn't exist. please try again...\n",
    "            press 0 to exist\n",
    "            or''')\n",
    "                   "
   ]
  },
  {
   "cell_type": "code",
   "execution_count": null,
   "id": "6d98b8b3",
   "metadata": {},
   "outputs": [],
   "source": []
  },
  {
   "cell_type": "code",
   "execution_count": null,
   "id": "d7b811f1",
   "metadata": {},
   "outputs": [],
   "source": []
  },
  {
   "cell_type": "code",
   "execution_count": null,
   "id": "04ba258e",
   "metadata": {},
   "outputs": [],
   "source": [
    "def signin():\n",
    "    while 1:\n",
    "        userin = input('enter your username: ').lower()\n",
    "        if userin == '0':\n",
    "            return 'failed'\n",
    "        if userin in d:\n",
    "            str1=3\n",
    "            while str1:\n",
    "                passin = input(f'enter a password {userin}:')\n",
    "                if d[userin]==passin:\n",
    "                    print('''\n",
    "                    \\b\\b.....Welcome To Game Zone.....\n",
    "                    \\b\\b...Do You Want To Game : Y/N.. ''')\n",
    "                    g1 = input(\"\\n\").title()\n",
    "                    if g1=='Y':\n",
    "                        print('''\n",
    "                        Press 1 For KBC\n",
    "                        Press 2 For Roll the Dice\n",
    "                        Press 3 For rock paper scissor''')\n",
    "                        game = int(input(\"\\nOption: \"))\n",
    "                        if game==1:                \n",
    "                            import KBC          # here we import the games we want\n",
    "                        elif game == 2:\n",
    "                            import role_the_dice\n",
    "                        elif game ==3:\n",
    "                            import rock.paper.game\n",
    "                        else:\n",
    "                            return 'Thank you !!'\n",
    "                else:\n",
    "                    print('pass not found please try again')\n",
    "                    str1 -=  1\n",
    "            option = input('Forgot password? y/n: ').lower()\n",
    "            if option == 'y':\n",
    "                forget()\n",
    "            else:\n",
    "                return 'failed'\n",
    "        else:\n",
    "            print('''username doesn't exist. please try again...\n",
    "            press 0 to exist\n",
    "            or''')\n",
    "                   "
   ]
  },
  {
   "cell_type": "code",
   "execution_count": null,
   "id": "b6055fa0",
   "metadata": {},
   "outputs": [],
   "source": [
    "def final():\n",
    "    flag = 3\n",
    "    while flag:\n",
    "        mode= input('''\\nchoose mode:\n",
    "        press 1 to signup\n",
    "        press 2 to signin\n",
    "        press 0 to exist\n",
    "        press 3 to forget password\n",
    "        :''')\n",
    "        if mode == '1':\n",
    "            X=signup()\n",
    "            print('signup',X)\n",
    "        elif mode == '2':\n",
    "            signin()\n",
    "            print('signin')\n",
    "        elif mode == '0':\n",
    "            print('thankyou')\n",
    "            break\n",
    "        elif mode=='3':\n",
    "            forget()\n",
    "            break\n",
    "        else:\n",
    "            print('enter a valid input...')\n",
    "            flag-=1\n"
   ]
  },
  {
   "cell_type": "code",
   "execution_count": null,
   "id": "5ccffa59",
   "metadata": {},
   "outputs": [
    {
     "name": "stdout",
     "output_type": "stream",
     "text": [
      "\n",
      "choose mode:\n",
      "        press 1 to signup\n",
      "        press 2 to signin\n",
      "        press 0 to exist\n",
      "        press 3 to forget password\n",
      "        :2\n",
      "enter your username: Akshat\n",
      "enter a password akshat:Akshat@18\n",
      "\n",
      "                    .....Welcome To Game Zone.....\n",
      "                    ...Do You Want To Game : Y/N.. \n"
     ]
    }
   ],
   "source": [
    "final()"
   ]
  },
  {
   "cell_type": "code",
   "execution_count": null,
   "id": "5f7cea2e",
   "metadata": {},
   "outputs": [],
   "source": []
  }
 ],
 "metadata": {
  "kernelspec": {
   "display_name": "Python 3 (ipykernel)",
   "language": "python",
   "name": "python3"
  },
  "language_info": {
   "codemirror_mode": {
    "name": "ipython",
    "version": 3
   },
   "file_extension": ".py",
   "mimetype": "text/x-python",
   "name": "python",
   "nbconvert_exporter": "python",
   "pygments_lexer": "ipython3",
   "version": "3.11.2"
  }
 },
 "nbformat": 4,
 "nbformat_minor": 5
}
