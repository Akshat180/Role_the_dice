{
 "cells": [
  {
   "cell_type": "code",
   "execution_count": null,
   "id": "e5648d45",
   "metadata": {},
   "outputs": [
    {
     "name": "stdout",
     "output_type": "stream",
     "text": [
      "rock paper scissor Game: \n",
      "\n",
      "rock paper scissor \n",
      "\n",
      "input 1: rock\n",
      "input 2: rock\n",
      "tie\n",
      "rock paper scissor \n",
      "\n"
     ]
    }
   ],
   "source": [
    "print(\"rock paper scissor Game: \")\n",
    "print(\"\")\n",
    "c1=0\n",
    "c2=0\n",
    "for i in range(1,3):\n",
    "        \n",
    "        print(\"rock\",\"paper\",\"scissor\",\"\\n\")\n",
    "        user1       = input('input 1: ')\n",
    "        user2choice = input('input 2: ')\n",
    "            \n",
    "            \n",
    "        if user1 == user2choice:\n",
    "            c1+=1\n",
    "            c2+=1\n",
    "            print(\"Match is Draw \")\n",
    "               \n",
    "            \n",
    "        elif (user1 == \"paper\" and user2choice == \"rock\") or (user1 == \"rock\" and user2choice == \"scissor\") or (user1 == \"scissor\" and user2choice == \"paper\"):\n",
    "            c1+=1\n",
    "            print(\"User 1 win: \")\n",
    "            \n",
    "        else:\n",
    "            c2+=1\n",
    "            print(\"User 2 win: \")\n",
    "            print(\"\")\n",
    "            \n",
    "\n",
    "if c1>c2:\n",
    "    print(\"User 1 win by: \",c1)\n",
    "elif c2>c1:\n",
    "    print(\"User 2 win by: \",c2)\n",
    "else:\n",
    "    print('Game is Draw')"
   ]
  },
  {
   "cell_type": "code",
   "execution_count": null,
   "id": "39057d3a",
   "metadata": {},
   "outputs": [],
   "source": []
  }
 ],
 "metadata": {
  "kernelspec": {
   "display_name": "Python 3 (ipykernel)",
   "language": "python",
   "name": "python3"
  },
  "language_info": {
   "codemirror_mode": {
    "name": "ipython",
    "version": 3
   },
   "file_extension": ".py",
   "mimetype": "text/x-python",
   "name": "python",
   "nbconvert_exporter": "python",
   "pygments_lexer": "ipython3",
   "version": "3.11.2"
  }
 },
 "nbformat": 4,
 "nbformat_minor": 5
}
